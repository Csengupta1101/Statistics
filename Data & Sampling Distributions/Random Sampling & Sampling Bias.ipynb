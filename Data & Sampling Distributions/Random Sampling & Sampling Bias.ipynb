{
 "cells": [
  {
   "attachments": {},
   "cell_type": "markdown",
   "metadata": {},
   "source": [
    "A sample is nothing but a subset of a data from a larger dataset.\n",
    "\n",
    "### Random Sampling\n",
    "\n",
    "In a random sampling , each of the data point in the larger dataset has an equal chance or probability of ending up in the sample taken.\n",
    "for example , I am taking a sample of 10 footballers from the dataset of all footballers participated in 2022 fifa world cup , let's just assume the number is 600. Now the random sampling suggests that in the sample that we will be taking , Christiano Ronaldo will have the same chance of being in the sample as Harry Kane."
   ]
  }
 ],
 "metadata": {
  "language_info": {
   "name": "python"
  },
  "orig_nbformat": 4
 },
 "nbformat": 4,
 "nbformat_minor": 2
}
