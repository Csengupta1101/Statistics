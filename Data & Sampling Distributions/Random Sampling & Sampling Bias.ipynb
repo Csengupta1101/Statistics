{
 "cells": [
  {
   "attachments": {},
   "cell_type": "markdown",
   "metadata": {},
   "source": [
    "A sample is nothing but a subset of a data from a larger dataset.\n",
    "\n",
    "### Random Sampling\n",
    "\n",
    "In a random sampling , each of the data point in the larger dataset has an equal chance or probability of ending up in the sample taken.\n",
    "for example , I am taking a sample of 10 footballers from the dataset of all footballers participated in 2022 fifa world cup , let's just assume the number is 600. Now the random sampling suggests that in the sample that we will be taking , Christiano Ronaldo will have the same chance of being in the sample as Harry Kane.\n",
    "\n",
    "#### Sampling with Replacement\n",
    "\n",
    "This simply means that if we need to draw multiple samples from the same dataset then each data we take for one sample can be used for other samples as well , that means the old data after being used will be placed in the main dataset for us to use in next sample.\n",
    "\n",
    "E.g - We are drawing samples of 4 footballers from the dataset of 600 footballers as above\n",
    "\n",
    "1st sample - dibu martinez , ochoa , leo messi , otamendi\n",
    "2nd sample - harry kane , bruno fernandez , leo messi , luka modric\n",
    "\n",
    "As we can seem , leo messi was used for the first sample and the second sample as well.\n",
    "\n",
    "#### Sampling without replacement \n",
    "\n",
    "This is just the oppostie of the above example. In here if one data is used for one sample , then those data/datas can not be used for further sampling , provided all the samples are being collected from same larger dataset.\n",
    "\n",
    "E.g - We are drawing samples of 4 footballers from the dataset of 600 footballers as above\n",
    "\n",
    "1st sample - dibu martinez , ochoa , leo messi , otamendi\n",
    "2nd sample - harry kane , bruno fernandez , lewanodoski , luka modric\n",
    "\n",
    "As we can seem , none of the names used in the first example was used in the second sample.\n"
   ]
  },
  {
   "attachments": {},
   "cell_type": "markdown",
   "metadata": {},
   "source": [
    "#### Sampling Bias"
   ]
  }
 ],
 "metadata": {
  "language_info": {
   "name": "python"
  },
  "orig_nbformat": 4
 },
 "nbformat": 4,
 "nbformat_minor": 2
}
