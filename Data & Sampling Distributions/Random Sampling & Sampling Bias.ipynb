{
 "cells": [
  {
   "attachments": {},
   "cell_type": "markdown",
   "metadata": {},
   "source": [
    "A sample is nothing but a subset of a data from a larger dataset.\n",
    "\n",
    "### Random Sampling\n",
    "\n",
    "In a random sampling , each of the data point in the larger dataset has an equal chance or probability of ending up in the sample taken.\n",
    "for example , I am taking a sample of 10 footballers from the dataset of all footballers participated in 2022 fifa world cup , let's just assume the number is 600. Now the random sampling suggests that in the sample that we will be taking , Christiano Ronaldo will have the same chance of being in the sample as Harry Kane.\n",
    "\n",
    "#### Sampling with Replacement\n",
    "\n",
    "This simply means that if we need to draw multiple samples from the same dataset then each data we take for one sample can be used for other samples as well , that means the old data after being used will be placed in the main dataset for us to use in next sample.\n",
    "\n",
    "E.g - We are drawing samples of 4 footballers from the dataset of 600 footballers as above\n",
    "\n",
    "1st sample - dibu martinez , ochoa , leo messi , otamendi\n",
    "2nd sample - harry kane , bruno fernandez , leo messi , luka modric\n",
    "\n",
    "As we can seem , leo messi was used for the first sample and the second sample as well.\n",
    "\n",
    "#### Sampling without replacement \n",
    "\n",
    "This is just the oppostie of the above example. In here if one data is used for one sample , then those data/datas can not be used for further sampling , provided all the samples are being collected from same larger dataset.\n",
    "\n",
    "E.g - We are drawing samples of 4 footballers from the dataset of 600 footballers as above\n",
    "\n",
    "1st sample - dibu martinez , ochoa , leo messi , otamendi\n",
    "2nd sample - harry kane , bruno fernandez , lewanodoski , luka modric\n",
    "\n",
    "As we can seem , none of the names used in the first example was used in the second sample.\n"
   ]
  },
  {
   "attachments": {},
   "cell_type": "markdown",
   "metadata": {},
   "source": [
    "#### Sampling Bias\n",
    "\n",
    "There are many times , samples do not properly identify the larger population so provides us with wrong insights while analyzing the data.\n",
    "\n",
    "For eg - \n",
    "1.  we are looking to find the average salary of employees in a company\n",
    "2.  There are 10000 total employees . 1 CEO(salary - 250,000/month) ,1 CFO(salary - 200,000/month) , 4 Business heads(salary - 180,000/month) , 9994 executives(salary - 30,000/month) \n",
    "3.  we are taking a sample of 10 employees which included CEO , CFO , 4 business heads and 4 executives\n",
    "4.  Now if we go ahead and calculate the average salart it will provide us with a wrong insight. "
   ]
  },
  {
   "cell_type": "code",
   "execution_count": 1,
   "metadata": {},
   "outputs": [
    {
     "name": "stdout",
     "output_type": "stream",
     "text": [
      "300990000\n"
     ]
    }
   ],
   "source": [
    "ceo = 250000\n",
    "bz_head = 180000\n",
    "cfo = 200000\n",
    "exc = 30000\n",
    "\n",
    "population_salary_total = (ceo*1)+(cfo*1)+(bz_head*4)+(exc*9994)\n",
    "print(population_salary_total) "
   ]
  },
  {
   "cell_type": "code",
   "execution_count": 2,
   "metadata": {},
   "outputs": [
    {
     "name": "stdout",
     "output_type": "stream",
     "text": [
      "1290000\n"
     ]
    }
   ],
   "source": [
    "sample1 = (ceo*1)+(cfo*1)+(bz_head*4)+(exc*4)\n",
    "print(sample1)"
   ]
  },
  {
   "cell_type": "code",
   "execution_count": 3,
   "metadata": {},
   "outputs": [
    {
     "name": "stdout",
     "output_type": "stream",
     "text": [
      "30099.0\n"
     ]
    }
   ],
   "source": [
    "average_pop_salary = population_salary_total/10000\n",
    "print(average_pop_salary)"
   ]
  },
  {
   "cell_type": "code",
   "execution_count": 4,
   "metadata": {},
   "outputs": [
    {
     "name": "stdout",
     "output_type": "stream",
     "text": [
      "129000.0\n"
     ]
    }
   ],
   "source": [
    "average_sample_salary = sample1/10\n",
    "print(average_sample_salary)"
   ]
  },
  {
   "cell_type": "code",
   "execution_count": null,
   "metadata": {},
   "outputs": [],
   "source": []
  }
 ],
 "metadata": {
  "kernelspec": {
   "display_name": "github1",
   "language": "python",
   "name": "python3"
  },
  "language_info": {
   "codemirror_mode": {
    "name": "ipython",
    "version": 3
   },
   "file_extension": ".py",
   "mimetype": "text/x-python",
   "name": "python",
   "nbconvert_exporter": "python",
   "pygments_lexer": "ipython3",
   "version": "3.10.8 | packaged by conda-forge | (main, Nov 24 2022, 14:07:00) [MSC v.1916 64 bit (AMD64)]"
  },
  "orig_nbformat": 4,
  "vscode": {
   "interpreter": {
    "hash": "e2f1f49a464b0261529b7f879af28a2fa50ede0bedb86dbf326bb328bc03475b"
   }
  }
 },
 "nbformat": 4,
 "nbformat_minor": 2
}
